{
 "cells": [
  {
   "cell_type": "markdown",
   "source": [
    "![AutoSolvate](logo.png)"
   ],
   "metadata": {
    "collapsed": false
   }
  },
  {
   "cell_type": "markdown",
   "source": [
    "### Developed by [Liu Group,Department of Chemistry, Emory University](https://flgroup.emorychem.science/)"
   ],
   "metadata": {
    "collapsed": false
   }
  },
  {
   "cell_type": "markdown",
   "source": [
    "### Source Code:\n",
    "The source code is available on the GitHub located [here](https://github.com/Liu-group/AutoSolvate.git)"
   ],
   "metadata": {
    "collapsed": false
   }
  },
  {
   "cell_type": "markdown",
   "source": [
    "# Getting Started\n",
    "\n",
    "\n",
    "AutoSolvate can be run as a command line tool or using a desktop GUI. You can use the following notebooks:\n",
    "\n",
    "\n",
    "1. [AutoSolvate NoteBook](Autosolvate.ipynb): This notebook will take you through 3 steps for setting up explicit solvent quantum chemistry calculations for molecules\n",
    "\n",
    "2. [AutoSolvate Tutorial with examples](Autosolvate_tutorial.ipynb) :For a detailed tutorial, guiding through each step.\n",
    "\n",
    "Alternatively, you can also access an A.I. assisted AutoSolvate [here](https://autosolvate.che230059.projects.jetstream-cloud.org/validate)\n"
   ],
   "metadata": {
    "collapsed": false
   }
  },
  {
   "cell_type": "markdown",
   "source": [
    "## Documentation\n",
    "\n",
    "Detailed Documentation is located [here](https://autosolvate.readthedocs.io/en/latest/)\n"
   ],
   "metadata": {
    "collapsed": false
   }
  }
 ],
 "metadata": {
  "kernelspec": {
   "display_name": "Python 3",
   "language": "python",
   "name": "python3"
  },
  "language_info": {
   "codemirror_mode": {
    "name": "ipython",
    "version": 2
   },
   "file_extension": ".py",
   "mimetype": "text/x-python",
   "name": "python",
   "nbconvert_exporter": "python",
   "pygments_lexer": "ipython2",
   "version": "2.7.6"
  }
 },
 "nbformat": 4,
 "nbformat_minor": 0
}
