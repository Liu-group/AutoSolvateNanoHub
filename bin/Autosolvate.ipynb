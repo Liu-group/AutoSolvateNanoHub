{
 "cells": [
  {
   "cell_type": "markdown",
   "source": [
    "![AutoSolvate](logo.png)"
   ],
   "metadata": {
    "collapsed": false
   }
  },
  {
   "cell_type": "markdown",
   "source": [
    "#### Automated workflow for setting up explicit solvent quantum chemistry calculations for molecules."
   ],
   "metadata": {
    "collapsed": false
   }
  },
  {
   "cell_type": "markdown",
   "id": "8a43e07b",
   "metadata": {},
   "source": [
    "Since, we are running terminal commands in Jupyter Notebook, we have to prefix `!` before all command line arguments. In the python `Python 3.8 (AUTOSOLVATE)` kernel, `autosolvate` is installed as a bash command. Users can use `conda run -n AUTOSOLVATE autosolvate` command to run `autosolvate`"
   ]
  },
  {
   "cell_type": "markdown",
   "id": "d0c2e85e",
   "metadata": {},
   "source": [
    "## First change the directory to your directory"
   ]
  },
  {
   "cell_type": "code",
   "execution_count": 1,
   "id": "85ce405b",
   "metadata": {
    "ExecuteTime": {
     "end_time": "2024-08-13T16:30:44.948369Z",
     "start_time": "2024-08-13T16:30:41.733289Z"
    }
   },
   "outputs": [
    {
     "data": {
      "application/javascript": [
       "\n",
       "requirejs.undef('filepicker');\n",
       "\n",
       "define('filepicker', [\"@jupyter-widgets/base\"], function(widgets) {\n",
       "\n",
       "    var FilePickerView = widgets.DOMWidgetView.extend({\n",
       "        render: function(){\n",
       "            this.file = document.createElement('input');\n",
       "            this.file.setAttribute('class', 'fileinput');\n",
       "            this.file.setAttribute('id', this.cid);\n",
       "            this.file.multiple = this.model.get('multiple');\n",
       "            this.file.required = true;\n",
       "            this.file.setAttribute('type', 'file');\n",
       "            this.file.setAttribute('style', 'display:none');\n",
       "\n",
       "            this.label = document.createElement('label');\n",
       "            this.label.setAttribute('for', this.cid);\n",
       "            this.label.setAttribute('style', 'border: 1px solid; border-radius: 5px; display: inline-block; padding: 6px 12px');\n",
       "\n",
       "            this.icon = document.createElement('i');\n",
       "            this.icon.setAttribute(\"class\", \"fa fa-upload\");\n",
       "\n",
       "            if (this.file.multiple) {\n",
       "                this.labelstr = \"  Upload Files\";\n",
       "            } else {\n",
       "                this.labelstr = \"  Upload File\";\n",
       "            }\n",
       "            this.label.innerHTML = this.labelstr;\n",
       "            this.label.prepend(this.icon);\n",
       "            this.el.appendChild(this.label);\n",
       "            this.el.appendChild(this.file);\n",
       "            this.listenTo(this.model, 'change:send', this._send_changed, this);\n",
       "            this.listenTo(this.model, 'change:reset', this._reset, this);\n",
       "            this.update();\n",
       "        },\n",
       "\n",
       "        events: {\n",
       "            // List of events and their handlers.\n",
       "            'change': 'handle_file_change'\n",
       "        },\n",
       "\n",
       "        _reset: function() {\n",
       "            this.label.innerHTML = this.labelstr;\n",
       "            this.label.prepend(this.icon);\n",
       "            this.file.removeAttribute(\"disabled\");\n",
       "        },\n",
       "\n",
       "        _send_changed: function() {\n",
       "            var that = this;\n",
       "            var send = this.model.get('send');\n",
       "            var fnum = send[0];\n",
       "            var offset = send[1];\n",
       "            var chunk_size=64*1024;\n",
       "            var reader;\n",
       "\n",
       "            if (fnum == -1) {\n",
       "                // ignore\n",
       "                return\n",
       "            }\n",
       "\n",
       "            if (offset == 0) {\n",
       "                this.model.set('sent', -1);\n",
       "                this.touch();\n",
       "            }\n",
       "\n",
       "            // console.log('send: ' + fnum + ' ' + offset);\n",
       "            function tob64( buffer ) {\n",
       "                var binary = '';\n",
       "                var bytes = new Uint8Array( buffer );\n",
       "                var len = bytes.byteLength;\n",
       "                for (var i = 0; i < len; i++) {\n",
       "                    binary += String.fromCharCode( bytes[ i ] );\n",
       "                }\n",
       "                return window.btoa( binary );\n",
       "            }\n",
       "\n",
       "            var reader_done = function (event) {\n",
       "                // chunk is finished.  Send to python\n",
       "                if (event.target.error == null) {\n",
       "                    var b64 = tob64(event.target.result);\n",
       "                    that.model.set('data', b64);\n",
       "                    that.model.set('sent', offset);\n",
       "                    that.touch();\n",
       "                } else {\n",
       "                    console.log(\"Read error: \" + event.target.error);\n",
       "                    that.model.set('data', '');\n",
       "                    that.model.set('sent', -2);\n",
       "                    that.touch();\n",
       "                }\n",
       "                that.touch();\n",
       "            }\n",
       "        \n",
       "            var chunk_reader = function (_offset, _f) {\n",
       "                // console.log('CR' + ' ' + _f + ' ' + _offset);\n",
       "                reader = new FileReader();\n",
       "                var chunk = _f.slice(_offset, chunk_size + _offset);            \n",
       "                reader.readAsArrayBuffer(chunk);\n",
       "                reader.onload = reader_done;\n",
       "            }\n",
       "    \n",
       "            // OK. request next chunk\n",
       "            chunk_reader(offset, this.files[fnum]);\n",
       "        },\n",
       "        \n",
       "        \n",
       "        handle_file_change: function(evt) {\n",
       "\n",
       "            var _files = evt.target.files;\n",
       "            var filenames = [];\n",
       "            var file_readers = [];\n",
       "            this.files = [];\n",
       "\n",
       "            for (var i = 0; i < _files.length; i++) {\n",
       "                var file = _files[i];\n",
       "                console.log(\"Filename: \" + file.name);\n",
       "                console.log(\"Type: \" + file.type);\n",
       "                console.log(\"Size: \" + file.size + \" bytes\");\n",
       "                this.files.push(file);\n",
       "                filenames.push([file.name, file.size]);\n",
       "            };\n",
       "            \n",
       "            // Set the filenames of the files.\n",
       "            this.model.set('filenames', filenames);\n",
       "            this.touch();\n",
       "\n",
       "            // update the label\n",
       "            if (filenames.length == 0) {\n",
       "                this.label.innerHTML = this.labelstr;\n",
       "                this.file.removeAttribute(\"disabled\");\n",
       "            } else if (filenames.length == 1) {\n",
       "                this.label.innerHTML = \"  \" + filenames[0][0];\n",
       "                this.file.setAttribute('disabled', 'true');\n",
       "            } else {\n",
       "                this.label.innerHTML = \"  \" + filenames.length + \" files selected\";\n",
       "                this.file.setAttribute('disabled', 'true');           \n",
       "            };\n",
       "            this.label.prepend(this.icon);\n",
       "        },\n",
       "    });\n",
       "\n",
       "    // Register the FilePickerView with the widget manager.\n",
       "    return {\n",
       "        FilePickerView: FilePickerView\n",
       "    };\n",
       "});\n"
      ],
      "text/plain": [
       "<IPython.core.display.Javascript object>"
      ]
     },
     "metadata": {},
     "output_type": "display_data"
    }
   ],
   "source": [
    "from ipywidgets import Label, Layout, Button, Box, HBox, VBox, Checkbox, FloatText, Text, Dropdown, Output\n",
    "from IPython.display import display, clear_output\n",
    "from hublib.ui import FileUpload, Download,PathSelector\n",
    "import imolecule"
   ]
  },
  {
   "cell_type": "code",
   "execution_count": 2,
   "id": "589e6c36",
   "metadata": {
    "ExecuteTime": {
     "end_time": "2024-08-13T16:30:44.960660Z",
     "start_time": "2024-08-13T16:30:44.956929Z"
    }
   },
   "outputs": [],
   "source": [
    "import os,shutil\n",
    "user=os.environ[\"USER\"]\n",
    "os.chdir(f\"/home/nanohub/{user}\")\n",
    "# We have to specify the GAMESS version.\n",
    "os.environ[\"GAMESS_VERSION\"]=\"2017\""
   ]
  },
  {
   "cell_type": "markdown",
   "id": "32a3ab64",
   "metadata": {},
   "source": [
    "## Load GAMESS module on NanoHub"
   ]
  },
  {
   "cell_type": "code",
   "execution_count": 3,
   "id": "3d219456",
   "metadata": {
    "ExecuteTime": {
     "end_time": "2024-08-13T16:30:45.955207Z",
     "start_time": "2024-08-13T16:30:45.931727Z"
    }
   },
   "outputs": [],
   "source": [
    "import hublib.use\n",
    "%use gamess-20170420"
   ]
  },
  {
   "cell_type": "markdown",
   "id": "dfa301ee",
   "metadata": {
    "ExecuteTime": {
     "end_time": "2024-08-06T18:40:29.452566Z",
     "start_time": "2024-08-06T18:40:28.846270Z"
    }
   },
   "source": [
    "Checking if the current directory is the user's directory"
   ]
  },
  {
   "cell_type": "code",
   "execution_count": 4,
   "id": "749972f3",
   "metadata": {
    "ExecuteTime": {
     "end_time": "2024-08-13T16:30:47.604788Z",
     "start_time": "2024-08-13T16:30:47.599434Z"
    }
   },
   "outputs": [
    {
     "data": {
      "text/plain": [
       "'/home/nanohub/rgadde3'"
      ]
     },
     "execution_count": 4,
     "metadata": {},
     "output_type": "execute_result"
    }
   ],
   "source": [
    "os.getcwd()"
   ]
  },
  {
   "cell_type": "markdown",
   "id": "25a16cef",
   "metadata": {},
   "source": [
    "## Select input File and Change the Current working directory"
   ]
  },
  {
   "cell_type": "markdown",
   "id": "3cebf987",
   "metadata": {},
   "source": [
    "Ask user to upload file. Also, the current working directory is the user's home directory. Change the directory to the location where .xyz file is located"
   ]
  },
  {
   "cell_type": "code",
   "execution_count": 5,
   "id": "ae916d53",
   "metadata": {
    "ExecuteTime": {
     "end_time": "2024-08-13T16:30:49.270575Z",
     "start_time": "2024-08-13T16:30:49.261425Z"
    }
   },
   "outputs": [],
   "source": [
    "file_name=''\n",
    "file_path=''\n",
    "sim_dir=''\n",
    "def check_if_directory(w,name):\n",
    "    clear_output()\n",
    "    global file_name,file_path,sim_dir\n",
    "    file_name = os.path.basename(w.list()[0])\n",
    "    file_path = os.path.abspath(w.list()[0])\n",
    "    tmpdir = os.path.abspath(os.path.dirname(w.list()[0]))\n",
    "    print(file_name,file_path,tmpdir)\n",
    "    \n",
    "    if not file_name.endswith(\".xyz\"):\n",
    "        print(\"Invalid file type. Only '.xyz' files are accepted\")\n",
    "        return\n",
    "    print(file_name)\n",
    "    sim_dir = os.path.join(f\"/home/nanohub/{user}\",file_name.split('.')[0])\n",
    "    if os.path.exists(sim_dir):\n",
    "        shutil.rmtree(sim_dir)\n",
    "    os.mkdir(sim_dir)\n",
    "    shutil.copy(file_path,sim_dir)\n",
    "    os.chdir(sim_dir)\n",
    "    imolecule.draw(os.path.join(sim_dir,file_name),size=(1000, 300))\n"
   ]
  },
  {
   "cell_type": "markdown",
   "id": "62c3d690",
   "metadata": {},
   "source": [
    "If there is any error in upload simply restart the kernel"
   ]
  },
  {
   "cell_type": "code",
   "execution_count": 6,
   "id": "8a7a1b04",
   "metadata": {
    "ExecuteTime": {
     "end_time": "2024-08-13T16:30:51.757690Z",
     "start_time": "2024-08-13T16:30:51.744102Z"
    }
   },
   "outputs": [
    {
     "name": "stdout",
     "output_type": "stream",
     "text": [
      "naphthalene_neutral.xyz /home/nanohub/rgadde3/tmpdir/naphthalene_neutral.xyz /home/nanohub/rgadde3/tmpdir\n",
      "naphthalene_neutral.xyz\n"
     ]
    },
    {
     "data": {
      "text/html": [
       "<div id=\"molecule_42e42194-0d30-4d45-9ec8-b53fa430ce72\"></div>\n",
       "           <script type=\"text/javascript\">\n",
       "           require.config({baseUrl: '/',\n",
       "                           paths: {\n",
       "                           jquery: 'https://cdnjs.cloudflare.com/ajax/libs/jquery/3.6.0/jquery.min',\n",
       "                           imolecule: ['nbextensions/imolecule.min', 'https://rawgit.com/patrickfuller/imolecule/master/imolecule/js/build/imolecule.min']}});\n",
       "           require(['imolecule'], function () {\n",
       "               var $d = $('#molecule_42e42194-0d30-4d45-9ec8-b53fa430ce72');\n",
       "               $d.width(1000); $d.height(300);\n",
       "               $d.imolecule = jQuery.extend({}, imolecule);\n",
       "               $d.imolecule.create($d, {drawingType: 'ball and stick',\n",
       "                                        cameraType: 'perspective',\n",
       "                                        shader: 'lambert',\n",
       "                                        showSave: false});\n",
       "               $d.imolecule.addElements({});\n",
       "               $d.imolecule.draw({\"atoms\":[{\"charge\":-0.06117,\"element\":\"C\",\"location\":[2.43977,-0.70999,2e-05]},{\"charge\":-0.06117,\"element\":\"C\",\"location\":[2.43972,0.71,2e-05]},{\"charge\":-0.05403,\"element\":\"C\",\"location\":[1.24759,1.40615,2e-05]},{\"charge\":-0.01788,\"element\":\"C\",\"location\":[-1e-05,0.71899,0.0]},{\"charge\":-0.05403,\"element\":\"C\",\"location\":[-1.24763,1.40617,-0.0]},{\"charge\":-0.06117,\"element\":\"C\",\"location\":[-2.43976,0.71005,-2e-05]},{\"charge\":-0.06117,\"element\":\"C\",\"location\":[-2.43975,-0.70995,-2e-05]},{\"charge\":-0.05403,\"element\":\"C\",\"location\":[-1.24763,-1.40622,-2e-05]},{\"charge\":-0.01788,\"element\":\"C\",\"location\":[1e-05,-0.7191,-0.0]},{\"charge\":-0.05403,\"element\":\"C\",\"location\":[1.24766,-1.40623,0.0]},{\"charge\":0.06236,\"element\":\"H\",\"location\":[1.24482,-2.49273,-0.0]},{\"charge\":0.06236,\"element\":\"H\",\"location\":[-1.24477,-2.49272,-2e-05]},{\"charge\":0.06178,\"element\":\"H\",\"location\":[-3.38401,-1.24522,-3e-05]},{\"charge\":0.06178,\"element\":\"H\",\"location\":[-3.38395,1.24541,-2e-05]},{\"charge\":0.06236,\"element\":\"H\",\"location\":[-1.24484,2.49268,0.0]},{\"charge\":0.06236,\"element\":\"H\",\"location\":[1.24479,2.49266,2e-05]},{\"charge\":0.06178,\"element\":\"H\",\"location\":[3.38396,1.24529,3e-05]},{\"charge\":0.06178,\"element\":\"H\",\"location\":[3.38403,-1.24525,2e-05]}],\"bonds\":[{\"atoms\":[12,6],\"order\":1},{\"atoms\":[6,7],\"order\":2},{\"atoms\":[6,5],\"order\":1},{\"atoms\":[11,7],\"order\":1},{\"atoms\":[13,5],\"order\":1},{\"atoms\":[7,8],\"order\":1},{\"atoms\":[5,4],\"order\":2},{\"atoms\":[8,3],\"order\":2},{\"atoms\":[8,9],\"order\":1},{\"atoms\":[4,14],\"order\":1},{\"atoms\":[4,3],\"order\":1},{\"atoms\":[10,9],\"order\":1},{\"atoms\":[3,2],\"order\":1},{\"atoms\":[9,0],\"order\":2},{\"atoms\":[2,15],\"order\":1},{\"atoms\":[2,1],\"order\":2},{\"atoms\":[0,17],\"order\":1},{\"atoms\":[0,1],\"order\":1},{\"atoms\":[1,16],\"order\":1}],\"formula\":\"C10H8\",\"molecular_weight\":128.17052,\"units\":{\"molecular_weight\":\"g / mol\"}});\n",
       "\n",
       "               $d.resizable({\n",
       "                   aspectRatio: 1000 / 300,\n",
       "                   resize: function (evt, ui) {\n",
       "                       $d.imolecule.renderer.setSize(ui.size.width,\n",
       "                                                     ui.size.height);\n",
       "                   }\n",
       "               });\n",
       "           });\n",
       "           </script>"
      ],
      "text/plain": [
       "<IPython.core.display.HTML object>"
      ]
     },
     "metadata": {},
     "output_type": "display_data"
    }
   ],
   "source": [
    "DIRECTORY = FileUpload('Select Input Directory','Select',cb=check_if_directory)\n",
    "display(DIRECTORY.input)"
   ]
  },
  {
   "cell_type": "markdown",
   "id": "061dfb17",
   "metadata": {},
   "source": [
    "Check if `file_name` is updated"
   ]
  },
  {
   "cell_type": "code",
   "execution_count": 7,
   "id": "702a7fb8",
   "metadata": {
    "ExecuteTime": {
     "end_time": "2024-08-13T16:31:03.793474Z",
     "start_time": "2024-08-13T16:31:03.787751Z"
    }
   },
   "outputs": [
    {
     "data": {
      "text/plain": [
       "('naphthalene_neutral.xyz',\n",
       " '/home/nanohub/rgadde3/tmpdir/naphthalene_neutral.xyz')"
      ]
     },
     "execution_count": 7,
     "metadata": {},
     "output_type": "execute_result"
    }
   ],
   "source": [
    "file_name,file_path"
   ]
  },
  {
   "cell_type": "code",
   "execution_count": null,
   "outputs": [],
   "source": [
    "os.getcwd()"
   ],
   "metadata": {
    "collapsed": false
   }
  },
  {
   "cell_type": "markdown",
   "id": "8d2feaa6",
   "metadata": {},
   "source": [
    "## STEP 1: Solvate box and MD parameter generation"
   ]
  },
  {
   "cell_type": "markdown",
   "id": "89939530",
   "metadata": {},
   "source": [
    "## Command for Step 1 with BCC"
   ]
  },
  {
   "cell_type": "code",
   "execution_count": 9,
   "id": "0779a8ee",
   "metadata": {
    "ExecuteTime": {
     "end_time": "2024-08-13T16:31:24.638380Z",
     "start_time": "2024-08-13T16:31:08.232573Z"
    }
   },
   "outputs": [
    {
     "name": "stdout",
     "output_type": "stream",
     "text": [
      "\r\n",
      "Welcome to antechamber 22.0: molecular input file processor.\r\n",
      "\r\n",
      "Info: acdoctor mode is on: check and diagnose problems in the input file.\r\n",
      "Info: The atom type is set to gaff; the options available to the -at flag are\r\n",
      "      gaff, gaff2, amber, bcc, and sybyl.\r\n",
      "\r\n",
      "-- Check Format for pdb File --\r\n",
      "   Status: pass\r\n",
      "-- Check Unusual Elements --\r\n",
      "   Status: pass\r\n",
      "-- Check Open Valences --\r\n",
      "   Status: pass\r\n",
      "-- Check Geometry --\r\n",
      "      for those bonded   \r\n",
      "      for those not bonded   \r\n",
      "   Status: pass\r\n",
      "-- Check Weird Bonds --\r\n",
      "   Status: pass\r\n",
      "-- Check Number of Units --\r\n",
      "   Status: pass\r\n",
      "acdoctor mode has completed checking the input file.\r\n",
      "\r\n",
      "Info: Total number of electrons: 68; net charge: 0\r\n",
      "\r\n",
      "Running: /apps/share64/debian10/anaconda/anaconda-7/envs/AUTOSOLVATE/bin/sqm -O -i sqm.in -o sqm.out\r\n",
      "\r\n",
      "AutoSolvate is starting in command line mode!\r\n",
      "Running the module to generate solvent box and force field parameters.\r\n",
      "Main/solutexyz naphthalene_neutral.xyz\r\n",
      "Chargemethod: bcc\r\n",
      "Charge: 0\r\n",
      "Spinmultiplicity: 1\r\n",
      "WARNING: Amber home directory is not specified in input options\r\n",
      "WARNING: Checking AMBERHOME environment variable...\r\n",
      "['echo', '$AMBERHOME']\r\n",
      "WARNING: AMBERHOME detected:  $AMBERHOME\r\n",
      "\r\n",
      "Converting xyz to pdb\r\n",
      "Generate frcmod file for the solute\r\n",
      "Remeove CONNECT information from pdb file\r\n",
      "cleaning up solute.xyz.pdb\r\n",
      "AnteChamber: Generate mol2 with bcc charge.\r\n",
      "$AMBERHOME/bin/antechamber -i solute.xyz.pdb -fi pdb -o solute.mol2 -fo mol2 -c bcc -eq 2 -rn SLU -nc 0 -m 1\r\n",
      "Finally generate frcmod with parmchk2\r\n",
      "Now create the solute library file\r\n",
      "Generate Amber parameters for the solvated system\r\n",
      "Now add pre-equlibrated solvent box to the solute\r\n",
      "The script has finished successfully\r\n",
      "\r\n",
      "/bin/bash: /apps/share64/debian10/anaconda/anaconda-7/envs/AUTOSOLVATE/lib/libtinfo.so.6: no version information available (required by /bin/bash)\r\n",
      "/bin/bash: /apps/share64/debian10/anaconda/anaconda-7/envs/AUTOSOLVATE/lib/libtinfo.so.6: no version information available (required by /bin/bash)\r\n",
      "/bin/bash: /apps/share64/debian10/anaconda/anaconda-7/envs/AUTOSOLVATE/lib/libtinfo.so.6: no version information available (required by /bin/bash)\r\n",
      "/bin/bash: /apps/share64/debian10/anaconda/anaconda-7/envs/AUTOSOLVATE/lib/libtinfo.so.6: no version information available (required by /bin/bash)\r\n",
      "\r\n"
     ]
    }
   ],
   "source": [
    "!conda run -n AUTOSOLVATE autosolvate boxgen -m {file_name} -g \"bcc\" -c 0 -u 1"
   ]
  },
  {
   "cell_type": "markdown",
   "source": [
    "## Command for Step 1 with RESP"
   ],
   "metadata": {
    "collapsed": false
   }
  },
  {
   "cell_type": "markdown",
   "id": "8cbd2578",
   "metadata": {},
   "source": [
    "Please make sure to delete `resp_scr` directory before running the step-1 command"
   ]
  },
  {
   "cell_type": "code",
   "execution_count": 11,
   "id": "b69cfc22",
   "metadata": {
    "ExecuteTime": {
     "end_time": "2024-08-13T16:31:47.837263Z",
     "start_time": "2024-08-13T16:31:47.832489Z"
    }
   },
   "outputs": [],
   "source": [
    "if os.path.exists(os.path.join(os.getcwd(),'resp_scr')):\n",
    "    shutil.rmtree(os.path.join(os.getcwd(),'resp_scr'))"
   ]
  },
  {
   "cell_type": "code",
   "execution_count": 12,
   "id": "70ecc635",
   "metadata": {
    "ExecuteTime": {
     "end_time": "2024-08-13T16:33:58.242744Z",
     "start_time": "2024-08-13T16:31:49.627717Z"
    }
   },
   "outputs": [
    {
     "name": "stdout",
     "output_type": "stream",
     "text": [
      "\r\n",
      "Welcome to antechamber 22.0: molecular input file processor.\r\n",
      "\r\n",
      "Info: acdoctor mode is on: check and diagnose problems in the input file.\r\n",
      "Info: The atom type is set to gaff; the options available to the -at flag are\r\n",
      "      gaff, gaff2, amber, bcc, and sybyl.\r\n",
      "\r\n",
      "-- Check Format for pdb File --\r\n",
      "   Status: pass\r\n",
      "-- Check Unusual Elements --\r\n",
      "   Status: pass\r\n",
      "-- Check Open Valences --\r\n",
      "   Status: pass\r\n",
      "-- Check Geometry --\r\n",
      "      for those bonded   \r\n",
      "      for those not bonded   \r\n",
      "   Status: pass\r\n",
      "-- Check Weird Bonds --\r\n",
      "   Status: pass\r\n",
      "-- Check Number of Units --\r\n",
      "   Status: pass\r\n",
      "acdoctor mode has completed checking the input file.\r\n",
      "\r\n",
      "\r\n",
      "\r\n",
      "\r\n",
      "\r\n",
      "Welcome to antechamber 22.0: molecular input file processor.\r\n",
      "\r\n",
      "Info: acdoctor mode is on: check and diagnose problems in the input file.\r\n",
      "Info: The atom type is set to gaff; the options available to the -at flag are\r\n",
      "      gaff, gaff2, amber, bcc, and sybyl.\r\n",
      "\r\n",
      "-- Check Format for ac File --\r\n",
      "   Status: pass\r\n",
      "-- Check Unusual Elements --\r\n",
      "   Status: pass\r\n",
      "-- Check Open Valences --\r\n",
      "   Status: pass\r\n",
      "-- Check Geometry --\r\n",
      "      for those bonded   \r\n",
      "      for those not bonded   \r\n",
      "   Status: pass\r\n",
      "-- Check Weird Bonds --\r\n",
      "   Status: pass\r\n",
      "-- Check Number of Units --\r\n",
      "   Status: pass\r\n",
      "acdoctor mode has completed checking the input file.\r\n",
      "\r\n",
      "\r\n",
      "AutoSolvate is starting in command line mode!\r\n",
      "Running the module to generate solvent box and force field parameters.\r\n",
      "Main/solutexyz naphthalene_neutral.xyz\r\n",
      "Quantum chemistry package directory: /apps/share64/debian10/gamess/gamess-20170420/bin\r\n",
      "Quantum chemistry program name: gamess\r\n",
      "Chargemethod: resp\r\n",
      "Charge: 1\r\n",
      "Spinmultiplicity: 2\r\n",
      "WARNING: Gamess executable name is not specified for RESP charge fitting!\r\n",
      "WARNING: Using rungms by default. If failed later,                          please rerun with the option -e specified!\r\n",
      "WARNING: Amber home directory is not specified in input options\r\n",
      "WARNING: Checking AMBERHOME environment variable...\r\n",
      "['echo', '$AMBERHOME']\r\n",
      "WARNING: AMBERHOME detected:  $AMBERHOME\r\n",
      "\r\n",
      "Converting xyz to pdb\r\n",
      "Generate frcmod file for the solute\r\n",
      "Remeove CONNECT information from pdb file\r\n",
      "cleaning up solute.xyz.pdb\r\n",
      "****************************************\r\n",
      "Run GAMESS to generate RESP charge and mol2 file\r\n",
      "****************************************\r\n",
      "inputs dictionary: {'pdbfile': 'solute.xyz.pdb', 'charge': 1, 'spinmult': 2, 'qm_program': 'gamess', 'qm_exe': 'rungms', 'qm_dir': '/apps/share64/debian10/gamess/gamess-20170420/bin', 'srun_use': False, 'rundir': ''}\r\n",
      "Creating the scratch folder for RESP fitting:  /home/nanohub/rgadde3/naphthalene_neutral/resp_scr\r\n",
      "Copying over the pdb file solute.xyz.pdb  to  /home/nanohub/rgadde3/naphthalene_neutral/resp_scr\r\n",
      "Navigating to the scratch folder for RESP fitting:  /home/nanohub/rgadde3/naphthalene_neutral/resp_scr\r\n",
      "----------------------------------------\r\n",
      "    Preparing GAMESS input files...     \r\n",
      "----------------------------------------\r\n",
      "----------------------------------------\r\n",
      "Running GAMESS. This may take a while...\r\n",
      "----------------------------------------\r\n",
      "/apps/share64/debian10/gamess/gamess-20170420/bin/rungms solute_gamess.inp 00 1  > /home/nanohub/rgadde3/naphthalene_neutral/resp_scr/solute_gamess.log\r\n",
      "Copy back GAMESS .dat file from SCR\r\n",
      "----------------------------------------\r\n",
      "Start RESP fitting with ESP generaged by GAMESS\r\n",
      "----------------------------------------\r\n",
      "Generating Antechamber file: solute.ac\r\n",
      "antechamber -i solute.xyz.pdb -fi pdb -o solute.ac -fo ac -c dc -nc 1\r\n",
      "Using respgen to generate stage 1 RESP fitting input file: solute.resp1\r\n",
      "respgen -i solute.ac -o solute.resp1 -f resp1\r\n",
      "Using respgen to generate stage 2 RESP fitting input file: solute.resp2\r\n",
      "respgen -i solute.ac -o solute.resp2 -f resp2\r\n",
      "Reading optimized geometries and electrostatic potentials from GAMESS output and writing potential file...\r\n",
      "Reading GAMESS output from /home/nanohub/rgadde3/naphthalene_neutral/resp_scr...\r\n",
      "Using resp to perform stage 1 RESP fitting to generate: solute.qout_stage1\r\n",
      "resp -O -i solute.resp1 -o solute.respout1 -e solute.esp -t solute.qout_stage1\r\n",
      "Using resp to perform stage 2 RESP fitting to generate: solute.qout_stage2\r\n",
      "resp -O -i solute.resp2 -o solute.respout2 -e solute.esp -q solute.qout_stage1 -t solute.qout_stage2\r\n",
      "Writing out the mol2 file with resp charge: solute.mol2\r\n",
      "antechamber -i solute.ac -fi ac -o solute.mol2 -fo mol2 -c rc -cf solute.qout_stage2\r\n",
      "Navigating back to the folder for AutoSolvate run:  /home/nanohub/rgadde3/naphthalene_neutral\r\n",
      "Copying the generated mol2 file  solute.mol2  to rundir /home/nanohub/rgadde3/naphthalene_neutral\r\n",
      "Finally generate frcmod with parmchk2\r\n",
      "Now create the solute library file\r\n",
      "Generate Amber parameters for the solvated system\r\n",
      "Now add pre-equlibrated solvent box to the solute\r\n",
      "The script has finished successfully\r\n",
      "\r\n",
      "cp solute_gamess.inp /home/nanohub/rgadde3/naphthalene_neutral/resp_scr/tmp/solute_gamess.F05\r\n",
      "unset echo\r\n",
      "/apps/share64/debian10/gamess/gamess-20170420/bin/ddikick.x /apps/share64/debian10/gamess/gamess-20170420/bin/gamess.00.x solute_gamess -ddi 1 1 nanohub-2452831-2 -scr /home/nanohub/rgadde3/naphthalene_neutral/resp_scr/tmp\r\n",
      "unset echo\r\n",
      "/bin/bash: /apps/share64/debian10/anaconda/anaconda-7/envs/AUTOSOLVATE/lib/libtinfo.so.6: no version information available (required by /bin/bash)\r\n",
      "/bin/bash: /apps/share64/debian10/anaconda/anaconda-7/envs/AUTOSOLVATE/lib/libtinfo.so.6: no version information available (required by /bin/bash)\r\n",
      "/bin/bash: /apps/share64/debian10/anaconda/anaconda-7/envs/AUTOSOLVATE/lib/libtinfo.so.6: no version information available (required by /bin/bash)\r\n",
      "/bin/bash: /apps/share64/debian10/anaconda/anaconda-7/envs/AUTOSOLVATE/lib/libtinfo.so.6: no version information available (required by /bin/bash)\r\n",
      "\r\n"
     ]
    }
   ],
   "source": [
    "!conda run -n AUTOSOLVATE autosolvate boxgen -m {file_name} -d \"/apps/share64/debian10/gamess/gamess-20170420/bin\" -q \"gamess\" -g \"resp\" -c 1 -u 2"
   ]
  },
  {
   "cell_type": "markdown",
   "id": "873bf37f",
   "metadata": {},
   "source": [
    "## Step 2: MD automation"
   ]
  },
  {
   "cell_type": "code",
   "execution_count": null,
   "id": "74f932af",
   "metadata": {
    "ExecuteTime": {
     "end_time": "2024-08-12T15:27:52.316773Z",
     "start_time": "2024-08-12T15:22:39.679355Z"
    }
   },
   "outputs": [],
   "source": [
    "!conda run -n AUTOSOLVATE autosolvate mdrun -f water_solvated -i 100 -m 100 -n 100 -l 0 -o 0 -s 0 -v 0 -b 100"
   ]
  },
  {
   "cell_type": "markdown",
   "id": "2f0bd3fa",
   "metadata": {},
   "source": [
    "## Step 3: Microsolvated cluster extraction"
   ]
  },
  {
   "cell_type": "code",
   "execution_count": null,
   "id": "e5e0b584",
   "metadata": {
    "ExecuteTime": {
     "end_time": "2024-08-12T18:10:05.427359Z",
     "start_time": "2024-08-12T18:09:20.119313Z"
    }
   },
   "outputs": [],
   "source": [
    "!conda run -n AUTOSOLVATE autosolvate clustergen -f water_solvated.prmtop -t water_solvated-mmnpt.netcdf -a 0 -i 10"
   ]
  },
  {
   "cell_type": "markdown",
   "id": "f5b68843",
   "metadata": {},
   "source": [
    "## Visualize the Output"
   ]
  },
  {
   "cell_type": "code",
   "execution_count": null,
   "id": "828cc04a",
   "metadata": {},
   "outputs": [],
   "source": [
    " imolecule.draw(\"./water_solvated-cutoutn-0.xyz\",size=(600, 600), camera_type=\"orthographic\")"
   ]
  }
 ],
 "metadata": {
  "kernelspec": {
   "display_name": "Python3.8 (AUTOSOLVATE)",
   "language": "python",
   "name": "autosolvate"
  },
  "language_info": {
   "codemirror_mode": {
    "name": "ipython",
    "version": 3
   },
   "file_extension": ".py",
   "mimetype": "text/x-python",
   "name": "python",
   "nbconvert_exporter": "python",
   "pygments_lexer": "ipython3",
   "version": "3.8.19"
  },
  "toc": {
   "base_numbering": 1,
   "nav_menu": {},
   "number_sections": true,
   "sideBar": true,
   "skip_h1_title": false,
   "title_cell": "Table of Contents",
   "title_sidebar": "Contents",
   "toc_cell": false,
   "toc_position": {},
   "toc_section_display": true,
   "toc_window_display": false
  },
  "varInspector": {
   "cols": {
    "lenName": 16,
    "lenType": 16,
    "lenVar": 40
   },
   "kernels_config": {
    "python": {
     "delete_cmd_postfix": "",
     "delete_cmd_prefix": "del ",
     "library": "var_list.py",
     "varRefreshCmd": "print(var_dic_list())"
    },
    "r": {
     "delete_cmd_postfix": ") ",
     "delete_cmd_prefix": "rm(",
     "library": "var_list.r",
     "varRefreshCmd": "cat(var_dic_list()) "
    }
   },
   "types_to_exclude": [
    "module",
    "function",
    "builtin_function_or_method",
    "instance",
    "_Feature"
   ],
   "window_display": false
  }
 },
 "nbformat": 4,
 "nbformat_minor": 5
}
