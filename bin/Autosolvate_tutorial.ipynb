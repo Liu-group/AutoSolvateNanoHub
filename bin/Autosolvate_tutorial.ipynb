{
 "cells": [
  {
   "cell_type": "markdown",
   "source": [
    "![AutoSolvate](logo.png)"
   ],
   "metadata": {
    "collapsed": false
   }
  },
  {
   "cell_type": "markdown",
   "id": "1653ee10",
   "metadata": {},
   "source": [
    "Autosolvate \n",
    "===============\n",
    "\n",
    "\n",
    "Autsolvate can be run as a command line tool or using a desktop GUI. The following tutorial illustrates the basic usage of Autosolvate in the command line interface (CLI).\n",
    "\n",
    "There will be two example systems: naphthalene in water with charge method BCC and naphthalene radical in chloroform with charge method RESP. "
   ]
  },
  {
   "cell_type": "markdown",
   "id": "8a43e07b",
   "metadata": {},
   "source": [
    "Since we are running terminal commands in Jupyter Notebook, we have to prefix `!` before all command line arguments. In the python `Python 3.8 (AUTOSOLVATE)` kernel, `autosolvate` is installed as a bash command. Users can use `conda run -n AUTOSOLVATE autosolvate` command to run `autosolvate`"
   ]
  },
  {
   "cell_type": "markdown",
   "id": "d0c2e85e",
   "metadata": {},
   "source": [
    "## First change the directory to your directory"
   ]
  },
  {
   "cell_type": "code",
   "execution_count": 1,
   "id": "85ce405b",
   "metadata": {
    "ExecuteTime": {
     "end_time": "2024-08-13T15:37:21.738148Z",
     "start_time": "2024-08-13T15:37:21.488861Z"
    }
   },
   "outputs": [],
   "source": [
    "import imolecule\n",
    "import babel"
   ]
  },
  {
   "cell_type": "code",
   "execution_count": 2,
   "id": "589e6c36",
   "metadata": {
    "ExecuteTime": {
     "end_time": "2024-08-13T15:37:23.559081Z",
     "start_time": "2024-08-13T15:37:23.551670Z"
    }
   },
   "outputs": [],
   "source": [
    "import os,shutil\n",
    "user=os.environ[\"USER\"]\n",
    "os.chdir(f\"/home/nanohub/{user}\")\n",
    "# We have to specify the GAMESS version.\n",
    "os.environ[\"GAMESS_VERSION\"]=\"2017\""
   ]
  },
  {
   "cell_type": "markdown",
   "id": "32a3ab64",
   "metadata": {},
   "source": [
    "## Load GAMESS module on NanoHub"
   ]
  },
  {
   "cell_type": "code",
   "execution_count": 3,
   "id": "3d219456",
   "metadata": {
    "ExecuteTime": {
     "end_time": "2024-08-13T15:37:26.619444Z",
     "start_time": "2024-08-13T15:37:25.589332Z"
    }
   },
   "outputs": [],
   "source": [
    "import hublib.use\n",
    "%use gamess-20170420"
   ]
  },
  {
   "cell_type": "markdown",
   "id": "8915dd25",
   "metadata": {},
   "source": [
    "## Change to working directory for first example"
   ]
  },
  {
   "cell_type": "code",
   "execution_count": null,
   "outputs": [],
   "source": [
    "if os.path.exists(os.path.abspath(\"./neutral\")):\n",
    "    shutil.rmtree(os.path.abspath(\"./neutral\"))\n",
    "os.mkdir(\"./neutral\")"
   ],
   "metadata": {
    "collapsed": false
   }
  },
  {
   "cell_type": "code",
   "execution_count": 4,
   "id": "292e819e",
   "metadata": {
    "ExecuteTime": {
     "end_time": "2024-08-13T15:37:29.509013Z",
     "start_time": "2024-08-13T15:37:29.503799Z"
    }
   },
   "outputs": [],
   "source": [
    "os.chdir(\"./neutral\")"
   ]
  },
  {
   "cell_type": "code",
   "execution_count": null,
   "outputs": [],
   "source": [
    "!wget https://autosolvate.readthedocs.io/en/latest/_downloads/1406830a8307fc876c90b200c00afed9/naphthalene_neutral.xyz"
   ],
   "metadata": {
    "collapsed": false
   }
  },
  {
   "cell_type": "code",
   "execution_count": 5,
   "id": "749972f3",
   "metadata": {
    "ExecuteTime": {
     "end_time": "2024-08-13T15:37:31.586021Z",
     "start_time": "2024-08-13T15:37:31.563872Z"
    }
   },
   "outputs": [
    {
     "data": {
      "text/plain": [
       "'/home/nanohub/arielgale/tutorial-home/neutral'"
      ]
     },
     "execution_count": 5,
     "metadata": {},
     "output_type": "execute_result"
    }
   ],
   "source": [
    "os.getcwd()"
   ]
  },
  {
   "cell_type": "markdown",
   "id": "74cecfdc",
   "metadata": {},
   "source": [
    "# AutoSolvate functions\n",
    "\n",
    "AutoSolvate has three functions that can be called. They generate the solvent box, run the MD simulations, and extract the micro-solvated clusters from the MD trajectories. They are always called in the following format: <br><br>\n",
    "`autosolvate boxgen [options]` <br>\n",
    "`autosolvate mdrun [options]` <br>\n",
    "`autosolvate clustergen [options]` <br>\n",
    "\n",
    "To see what the options are for a given function, just use -h or --help "
   ]
  },
  {
   "cell_type": "code",
   "execution_count": 6,
   "id": "f7f7bf1a",
   "metadata": {
    "ExecuteTime": {
     "end_time": "2024-08-13T15:37:41.090503Z",
     "start_time": "2024-08-13T15:37:36.004425Z"
    }
   },
   "outputs": [
    {
     "name": "stdout",
     "output_type": "stream",
     "text": [
      "AutoSolvate is starting in command line mode!\r\n",
      "Running the module to generate solvent box and force field parameters.\r\n",
      "Usage: autosolvate boxgen [OPTIONS]\r\n",
      "  -m, --main                 solute xyz file\r\n",
      "  -s, --solvent              name of solvent\r\n",
      "  -o, --output               prefix of the output file names\r\n",
      "  -c, --charge               formal charge of solute\r\n",
      "  -u, --spinmultiplicity     spin multiplicity of solute\r\n",
      "  -g, --chargemethod         name of charge fitting method (bcc, resp)\r\n",
      "  -b, --cubesize             size of solvent cube in angstroms\r\n",
      "  -r, --srunuse              option to run inside a slurm job\r\n",
      "  -q, --qmprogram            name of the quantum chemistry program\r\n",
      "  -e, --qmexe                name of the quantum chemistry package executable\r\n",
      "  -d, --qmdir                path to the quantum chemistry package\r\n",
      "  -a, --amberhome            path to the AMBER molecular dynamics package root directory\r\n",
      "  -t, --closeness            Solute-solvent closeness setting\r\n",
      "  -l, --solventoff           path to the custom solvent .off library file\r\n",
      "  -D, --rundir               running directory where temporary files are stored\r\n",
      "  -p, --solventfrcmod        path to the custom solvent .frcmod file\r\n",
      "  -n, --solutename           initialize suggested parameter for given solute\r\n",
      "  -v, --validation           option to run validation step for input parameters\r\n",
      "  -h, --help                 short usage description\r\n",
      "\r\n"
     ]
    }
   ],
   "source": [
    "!conda run -n AUTOSOLVATE autosolvate boxgen -h"
   ]
  },
  {
   "cell_type": "markdown",
   "id": "8d2feaa6",
   "metadata": {},
   "source": [
    "# Example 1: neutral naphthalene in water"
   ]
  },
  {
   "cell_type": "markdown",
   "id": "70bd38a9",
   "metadata": {},
   "source": [
    "## Step 1: BOXGEN"
   ]
  },
  {
   "cell_type": "markdown",
   "id": "89939530",
   "metadata": {},
   "source": [
    "The default settings for boxgen are as follows: <br>\n",
    "\n",
    "<pre>\n",
    "-s     solvent            water \n",
    "-o     output             water_solvated \n",
    "-c     charge             0 \n",
    "-u     multiplicity       1 \n",
    "-g     chargemethod       bcc \n",
    "-b     cubesize           54 A \n",
    "</pre>"
   ]
  },
  {
   "cell_type": "code",
   "execution_count": 7,
   "id": "0779a8ee",
   "metadata": {
    "ExecuteTime": {
     "end_time": "2024-08-13T15:37:55.039767Z",
     "start_time": "2024-08-13T15:37:46.687288Z"
    }
   },
   "outputs": [
    {
     "name": "stdout",
     "output_type": "stream",
     "text": [
      "\r\n",
      "Welcome to antechamber 22.0: molecular input file processor.\r\n",
      "\r\n",
      "Info: acdoctor mode is on: check and diagnose problems in the input file.\r\n",
      "Info: The atom type is set to gaff; the options available to the -at flag are\r\n",
      "      gaff, gaff2, amber, bcc, and sybyl.\r\n",
      "\r\n",
      "-- Check Format for pdb File --\r\n",
      "   Status: pass\r\n",
      "-- Check Unusual Elements --\r\n",
      "   Status: pass\r\n",
      "-- Check Open Valences --\r\n",
      "   Status: pass\r\n",
      "-- Check Geometry --\r\n",
      "      for those bonded   \r\n",
      "      for those not bonded   \r\n",
      "   Status: pass\r\n",
      "-- Check Weird Bonds --\r\n",
      "   Status: pass\r\n",
      "-- Check Number of Units --\r\n",
      "   Status: pass\r\n",
      "acdoctor mode has completed checking the input file.\r\n",
      "\r\n",
      "Info: Total number of electrons: 68; net charge: 0\r\n",
      "\r\n",
      "Running: /apps/share64/debian10/anaconda/anaconda-7/envs/AUTOSOLVATE/bin/sqm -O -i sqm.in -o sqm.out\r\n",
      "\r\n",
      "AutoSolvate is starting in command line mode!\r\n",
      "Running the module to generate solvent box and force field parameters.\r\n",
      "Main/solutexyz naphthalene-neutral.xyz\r\n",
      "Chargemethod: bcc\r\n",
      "Charge: 0\r\n",
      "Spinmultiplicity: 1\r\n",
      "WARNING: Amber home directory is not specified in input options\r\n",
      "WARNING: Checking AMBERHOME environment variable...\r\n",
      "['echo', '$AMBERHOME']\r\n",
      "WARNING: AMBERHOME detected:  $AMBERHOME\r\n",
      "\r\n",
      "Converting xyz to pdb\r\n",
      "Generate frcmod file for the solute\r\n",
      "Remeove CONNECT information from pdb file\r\n",
      "cleaning up solute.xyz.pdb\r\n",
      "AnteChamber: Generate mol2 with bcc charge.\r\n",
      "$AMBERHOME/bin/antechamber -i solute.xyz.pdb -fi pdb -o solute.mol2 -fo mol2 -c bcc -eq 2 -rn SLU -nc 0 -m 1\r\n",
      "Finally generate frcmod with parmchk2\r\n",
      "Now create the solute library file\r\n",
      "Generate Amber parameters for the solvated system\r\n",
      "Now add pre-equlibrated solvent box to the solute\r\n",
      "The script has finished successfully\r\n",
      "\r\n",
      "/bin/bash: /apps/share64/debian10/anaconda/anaconda-7/envs/AUTOSOLVATE/lib/libtinfo.so.6: no version information available (required by /bin/bash)\r\n",
      "/bin/bash: /apps/share64/debian10/anaconda/anaconda-7/envs/AUTOSOLVATE/lib/libtinfo.so.6: no version information available (required by /bin/bash)\r\n",
      "/bin/bash: /apps/share64/debian10/anaconda/anaconda-7/envs/AUTOSOLVATE/lib/libtinfo.so.6: no version information available (required by /bin/bash)\r\n",
      "/bin/bash: /apps/share64/debian10/anaconda/anaconda-7/envs/AUTOSOLVATE/lib/libtinfo.so.6: no version information available (required by /bin/bash)\r\n",
      "\r\n"
     ]
    }
   ],
   "source": [
    "!conda run -n AUTOSOLVATE autosolvate boxgen -m naphthalene_neutral.xyz -g \"bcc\" -c 0 -u 1"
   ]
  },
  {
   "attachments": {},
   "cell_type": "markdown",
   "id": "5a191463",
   "metadata": {},
   "source": [
    "<div class=\"alert alert-block alert-info\">\n",
    "The important output files from this step are: <br>\n",
    "\n",
    "water_solvated.inpcrd     input coordinates <br>\n",
    "water_solvated.pdb        solute + solvent box coordinates <br>\n",
    "water_solvated.prmtop     Amber parameter-topoogy file for the solute <br><br>\n",
    "\n",
    "These are the input files for the MD simulation in the next step"
   ]
  },
  {
   "cell_type": "markdown",
   "id": "873bf37f",
   "metadata": {},
   "source": [
    "## Step 2: MDRUN"
   ]
  },
  {
   "cell_type": "markdown",
   "id": "2eef6735",
   "metadata": {},
   "source": [
    "The MD run function does the MD simulations using Amber. The default settings are set for a production run with final results coming from the QM/MM NVT trajectory: <br>\n",
    "<pre>\n",
    "-f     filename           water_solvated \n",
    "-t     temperature        300 \n",
    "-p     pressure           1 \n",
    "-i     steps mm min       1,000 \n",
    "-m     steps mm heat      10,000 \n",
    "-n     steps mm npt       300,000 \n",
    "-b     steps mm nve       0 \n",
    "-l     steps qmmm min     250 \n",
    "-o     steps qmmm heat    1,000 \n",
    "-s     steps qmmm nvt     10,000 \n",
    "-v     steps qmmm nve     0 \n",
    "-k     DFT functional     B3LYP \n",
    "\n",
    "-r     srun use           False \n",
    "-d     dry run            False\n",
    "</pre>"
   ]
  },
  {
   "cell_type": "markdown",
   "id": "ffcac9c1",
   "metadata": {},
   "source": [
    "The last two options are related to job submission. When using HPC, it is usually preferred to submit the autosolvate command as a slurm job (-r) or to use the dry run setting (-d), which will generate submit scripts but not run them."
   ]
  },
  {
   "cell_type": "markdown",
   "id": "23449a48",
   "metadata": {},
   "source": [
    "When testing AutoSolvate or for running examples, much smaller runs only using MM is more suitable"
   ]
  },
  {
   "cell_type": "code",
   "execution_count": 8,
   "id": "74f932af",
   "metadata": {
    "ExecuteTime": {
     "end_time": "2024-08-13T15:39:17.318079Z",
     "start_time": "2024-08-13T15:38:13.665519Z"
    }
   },
   "outputs": [
    {
     "name": "stdout",
     "output_type": "stream",
     "text": [
      "AutoSolvate is starting in command line mode!\r\n",
      "Running the module to automatically run MD simulations of solvated structure.\r\n",
      "Filename: water_solvated\r\n",
      "Steps MM min: 100\r\n",
      "Steps MM heat: 100\r\n",
      "Steps MM NPT: 100\r\n",
      "Steps QMMM min: 0\r\n",
      "Steps QMMM heat: 0\r\n",
      "Steps QMMM NPT: 0\r\n",
      "Steps QMMM NVE: 0\r\n",
      "MM Energy minimization\r\n",
      "MM Heating\r\n",
      "MM NPT equilibration\r\n",
      "\r\n"
     ]
    }
   ],
   "source": [
    "!conda run -n AUTOSOLVATE autosolvate mdrun -f water_solvated -i 100 -m 100 -n 100 -l 0 -o 0 -s 0 -v 0"
   ]
  },
  {
   "cell_type": "markdown",
   "id": "8317c767",
   "metadata": {},
   "source": [
    "<div class=\"alert alert-block alert-info\">\n",
    "This step has completed successfully when the <b>.out</b> and <b>.netcdf</b> (trajectories) files have been generated for each step requested."
   ]
  },
  {
   "cell_type": "markdown",
   "id": "2f0bd3fa",
   "metadata": {},
   "source": [
    "## Step 3: CLUSTERGEN"
   ]
  },
  {
   "cell_type": "markdown",
   "id": "d98dfd6b",
   "metadata": {},
   "source": [
    "The clustergen function extracts the solute and its surrounding solvent molecules from the designated frames of the MD trajectory. The default settings are as follows: <br>\n",
    "<pre>\n",
    "-f     .prmtop file name      NA\n",
    "-t     .netcdf file name      NA\n",
    "-a     start frame            0 \n",
    "-i     frame interval         100 (minimum)\n",
    "-s     solvent shell size     4\n",
    "</pre>"
   ]
  },
  {
   "cell_type": "code",
   "execution_count": 11,
   "id": "e5e0b584",
   "metadata": {
    "ExecuteTime": {
     "end_time": "2024-08-13T15:39:43.285754Z",
     "start_time": "2024-08-13T15:39:33.022107Z"
    }
   },
   "outputs": [
    {
     "name": "stdout",
     "output_type": "stream",
     "text": [
      "AutoSolvate is starting in command line mode!\r\n",
      "Running the module to extract microsolvated clusters from MD trajectories with solvent box.\r\n",
      "Filename: water_solvated.prmtop\r\n",
      "Trajectory name: water_solvated-mmnpt.netcdf\r\n",
      "startframe to extract: 0\r\n",
      "interval to extract: 10\r\n",
      "Loading trajectory\r\n",
      "selecting center solute\r\n",
      "extracting from frames: [0]\r\n",
      "calculating distance to all solvent molecules\r\n",
      "select solvent molecules\r\n",
      "for first frame selected 27 solvent molecules\r\n",
      "saving xyz\r\n",
      "\r\n",
      "/apps/share64/debian10/anaconda/anaconda-7/envs/AUTOSOLVATE/lib/python3.8/site-packages/mdtraj/formats/netcdf.py:154: UserWarning: Warning: The 'netCDF4' Python package is not installed. MDTraj is using the 'scipy' implementation to read and write netCDF files,which can be significantly slower.\r\n",
      "For improved performance, consider installing netCDF4. See installation instructions at:\r\n",
      "https://unidata.github.io/netcdf4-python/#quick-install\r\n",
      "  warnings.warn(warning_message)\r\n",
      "\r\n"
     ]
    }
   ],
   "source": [
    "!conda run -n AUTOSOLVATE autosolvate clustergen -f water_solvated.prmtop -t water_solvated-mmnpt.netcdf -a 0 -i 10"
   ]
  },
  {
   "cell_type": "markdown",
   "id": "67631206",
   "metadata": {},
   "source": [
    "<div class=\"alert alert-block alert-info\">\n",
    "This step is completed when the <b>cutoutn-0.xyz</b> files have been generated."
   ]
  },
  {
   "cell_type": "markdown",
   "id": "16978599",
   "metadata": {
    "ExecuteTime": {
     "end_time": "2024-08-13T13:33:09.523923Z",
     "start_time": "2024-08-13T13:33:09.517612Z"
    }
   },
   "source": [
    "## Step 4: Visualize the Output"
   ]
  },
  {
   "cell_type": "code",
   "execution_count": 14,
   "id": "61907c49",
   "metadata": {
    "ExecuteTime": {
     "end_time": "2024-08-13T15:40:23.479587Z",
     "start_time": "2024-08-13T15:40:23.456940Z"
    }
   },
   "outputs": [
    {
     "data": {
      "text/html": [
       "<div id=\"molecule_1dc08556-6187-450d-a6f7-37b8a7dae51e\"></div>\n",
       "           <script type=\"text/javascript\">\n",
       "           require.config({baseUrl: '/',\n",
       "                           paths: {\n",
       "                           jquery: 'https://cdnjs.cloudflare.com/ajax/libs/jquery/3.6.0/jquery.min',\n",
       "                           imolecule: ['nbextensions/imolecule.min', 'https://rawgit.com/patrickfuller/imolecule/master/imolecule/js/build/imolecule.min']}});\n",
       "           require(['imolecule'], function () {\n",
       "               var $d = $('#molecule_1dc08556-6187-450d-a6f7-37b8a7dae51e');\n",
       "               $d.width(250); $d.height(250);\n",
       "               $d.imolecule = jQuery.extend({}, imolecule);\n",
       "               $d.imolecule.create($d, {drawingType: 'ball and stick',\n",
       "                                        cameraType: 'orthographic',\n",
       "                                        shader: 'lambert',\n",
       "                                        showSave: false});\n",
       "               $d.imolecule.addElements({});\n",
       "               $d.imolecule.draw({\"atoms\":[{\"charge\":-0.06117,\"element\":\"C\",\"location\":[1.95276,-1.03049,-0.91059]},{\"charge\":-0.06117,\"element\":\"C\",\"location\":[1.88476,0.28451,-0.51459]},{\"charge\":-0.05403,\"element\":\"C\",\"location\":[0.63476,0.89951,-0.39659]},{\"charge\":-0.01788,\"element\":\"C\",\"location\":[-0.58024,0.17251,-0.55659]},{\"charge\":-0.05403,\"element\":\"C\",\"location\":[-1.84224,0.76051,-0.32159]},{\"charge\":-0.06117,\"element\":\"C\",\"location\":[-3.02824,-0.00249,-0.31959]},{\"charge\":-0.06117,\"element\":\"C\",\"location\":[-2.92924,-1.38649,-0.58659]},{\"charge\":-0.05403,\"element\":\"C\",\"location\":[-1.65124,-1.96649,-0.82559]},{\"charge\":-0.01788,\"element\":\"C\",\"location\":[-0.50324,-1.19749,-0.79859]},{\"charge\":-0.05403,\"element\":\"C\",\"location\":[0.77476,-1.82749,-1.03459]},{\"charge\":0.06236,\"element\":\"H\",\"location\":[0.82076,-2.85249,-1.39159]},{\"charge\":0.06236,\"element\":\"H\",\"location\":[-1.62524,-3.04449,-0.95559]},{\"charge\":0.06178,\"element\":\"H\",\"location\":[-3.82624,-1.99749,-0.61459]},{\"charge\":0.06178,\"element\":\"H\",\"location\":[-3.94824,0.49251,-0.02159]},{\"charge\":0.06236,\"element\":\"H\",\"location\":[-1.85024,1.79151,0.02141]},{\"charge\":0.06236,\"element\":\"H\",\"location\":[0.58576,1.94751,-0.11659]},{\"charge\":0.06178,\"element\":\"H\",\"location\":[2.72976,0.96451,-0.46559]},{\"charge\":0.06178,\"element\":\"H\",\"location\":[2.93676,-1.48149,-1.00059]},{\"charge\":-0.41047,\"element\":\"O\",\"location\":[-0.12524,4.63851,-0.67659]},{\"charge\":0.20523,\"element\":\"H\",\"location\":[-0.00224,5.29251,0.01041]},{\"charge\":0.20523,\"element\":\"H\",\"location\":[-1.02224,4.77551,-0.98059]},{\"charge\":-0.41047,\"element\":\"O\",\"location\":[4.56076,3.25551,0.01041]},{\"charge\":0.20523,\"element\":\"H\",\"location\":[4.98676,2.52451,-0.43759]},{\"charge\":0.20523,\"element\":\"H\",\"location\":[4.95276,3.26251,0.88341]},{\"charge\":-0.41047,\"element\":\"O\",\"location\":[7.76176,1.37451,0.26541]},{\"charge\":0.20523,\"element\":\"H\",\"location\":[6.87676,1.26451,-0.08159]},{\"charge\":0.20523,\"element\":\"H\",\"location\":[7.63276,1.57651,1.19241]},{\"charge\":-0.41047,\"element\":\"O\",\"location\":[2.30976,4.30551,0.95241]},{\"charge\":0.20523,\"element\":\"H\",\"location\":[2.90676,3.74251,0.45841]},{\"charge\":0.20523,\"element\":\"H\",\"location\":[1.48176,4.25351,0.47541]},{\"charge\":-0.41047,\"element\":\"O\",\"location\":[1.46376,1.15851,4.02941]},{\"charge\":0.20523,\"element\":\"H\",\"location\":[1.99976,1.20051,3.23741]},{\"charge\":0.20523,\"element\":\"H\",\"location\":[0.59376,1.43951,3.74541]},{\"charge\":-0.41047,\"element\":\"O\",\"location\":[3.64976,1.04351,2.14441]},{\"charge\":0.20523,\"element\":\"H\",\"location\":[4.09276,0.23051,1.90141]},{\"charge\":0.20523,\"element\":\"H\",\"location\":[4.35976,1.66751,2.29341]},{\"charge\":-0.41047,\"element\":\"O\",\"location\":[2.48676,3.31851,-3.45759]},{\"charge\":0.20523,\"element\":\"H\",\"location\":[1.91576,4.05451,-3.23759]},{\"charge\":0.20523,\"element\":\"H\",\"location\":[1.90176,2.56251,-3.49359]},{\"charge\":-0.41047,\"element\":\"O\",\"location\":[0.82276,1.00151,-3.37959]},{\"charge\":0.20523,\"element\":\"H\",\"location\":[-0.09724,1.04251,-3.12059]},{\"charge\":0.20523,\"element\":\"H\",\"location\":[1.27276,0.64651,-2.61259]},{\"charge\":-0.41047,\"element\":\"O\",\"location\":[5.26676,2.69051,-3.50059]},{\"charge\":0.20523,\"element\":\"H\",\"location\":[5.30376,2.27051,-4.35959]},{\"charge\":0.20523,\"element\":\"H\",\"location\":[4.33276,2.82351,-3.33959]},{\"charge\":-0.41047,\"element\":\"O\",\"location\":[5.41976,0.92251,-1.43659]},{\"charge\":0.20523,\"element\":\"H\",\"location\":[5.43676,1.41351,-2.25859]},{\"charge\":0.20523,\"element\":\"H\",\"location\":[5.51976,0.00851,-1.70059]},{\"charge\":-0.41047,\"element\":\"O\",\"location\":[6.35876,-2.53749,-0.01559]},{\"charge\":0.20523,\"element\":\"H\",\"location\":[7.12076,-1.95849,0.01441]},{\"charge\":0.20523,\"element\":\"H\",\"location\":[6.47076,-3.03949,-0.82259]},{\"charge\":-0.41047,\"element\":\"O\",\"location\":[2.33176,-2.90649,3.22841]},{\"charge\":0.20523,\"element\":\"H\",\"location\":[2.47276,-2.15449,2.65341]},{\"charge\":0.20523,\"element\":\"H\",\"location\":[1.95676,-2.53249,4.02541]},{\"charge\":-0.41047,\"element\":\"O\",\"location\":[5.11076,-1.36149,2.03941]},{\"charge\":0.20523,\"element\":\"H\",\"location\":[5.39976,-1.91449,1.31341]},{\"charge\":0.20523,\"element\":\"H\",\"location\":[5.46176,-1.78849,2.82041]},{\"charge\":-0.41047,\"element\":\"O\",\"location\":[2.81576,-5.58049,-1.96659]},{\"charge\":0.20523,\"element\":\"H\",\"location\":[2.70776,-5.95649,-1.09259]},{\"charge\":0.20523,\"element\":\"H\",\"location\":[2.36976,-4.73449,-1.91959]},{\"charge\":-0.41047,\"element\":\"O\",\"location\":[3.18976,-1.88949,-4.69859]},{\"charge\":0.20523,\"element\":\"H\",\"location\":[2.41276,-1.39049,-4.94959]},{\"charge\":0.20523,\"element\":\"H\",\"location\":[3.09676,-2.72549,-5.15559]},{\"charge\":-0.41047,\"element\":\"O\",\"location\":[-3.51524,3.33051,3.26641]},{\"charge\":0.20523,\"element\":\"H\",\"location\":[-4.06524,3.29651,2.48341]},{\"charge\":0.20523,\"element\":\"H\",\"location\":[-4.11224,3.13451,3.98741]},{\"charge\":-0.41047,\"element\":\"O\",\"location\":[-6.36424,1.02051,2.97841]},{\"charge\":0.20523,\"element\":\"H\",\"location\":[-6.40924,0.08951,3.19741]},{\"charge\":0.20523,\"element\":\"H\",\"location\":[-7.26724,1.32851,3.05141]},{\"charge\":-0.41047,\"element\":\"O\",\"location\":[-5.31824,2.93451,1.29841]},{\"charge\":0.20523,\"element\":\"H\",\"location\":[-5.57424,2.54751,0.46141]},{\"charge\":0.20523,\"element\":\"H\",\"location\":[-5.70024,2.35551,1.95741]},{\"charge\":-0.41047,\"element\":\"O\",\"location\":[-0.81424,2.59751,3.19341]},{\"charge\":0.20523,\"element\":\"H\",\"location\":[-1.77124,2.59451,3.19141]},{\"charge\":0.20523,\"element\":\"H\",\"location\":[-0.57724,3.51051,3.03041]},{\"charge\":-0.41047,\"element\":\"O\",\"location\":[-2.96824,-0.38649,3.65441]},{\"charge\":0.20523,\"element\":\"H\",\"location\":[-2.78324,0.23551,2.95041]},{\"charge\":0.20523,\"element\":\"H\",\"location\":[-3.91724,-0.51249,3.61841]},{\"charge\":-0.41047,\"element\":\"O\",\"location\":[-6.73624,1.19451,-2.77159]},{\"charge\":0.20523,\"element\":\"H\",\"location\":[-6.31624,1.22251,-3.63159]},{\"charge\":0.20523,\"element\":\"H\",\"location\":[-6.11024,0.73051,-2.21559]},{\"charge\":-0.41047,\"element\":\"O\",\"location\":[-5.87624,-1.73149,3.43541]},{\"charge\":0.20523,\"element\":\"H\",\"location\":[-5.78124,-2.30649,4.19541]},{\"charge\":0.20523,\"element\":\"H\",\"location\":[-5.90924,-2.32649,2.68741]},{\"charge\":-0.41047,\"element\":\"O\",\"location\":[-6.12824,-3.29749,1.14941]},{\"charge\":0.20523,\"element\":\"H\",\"location\":[-6.91524,-3.56049,0.67241]},{\"charge\":0.20523,\"element\":\"H\",\"location\":[-5.52724,-4.03449,1.04441]},{\"charge\":-0.41047,\"element\":\"O\",\"location\":[-2.15824,-4.31549,3.38641]},{\"charge\":0.20523,\"element\":\"H\",\"location\":[-2.64624,-4.76849,4.07341]},{\"charge\":0.20523,\"element\":\"H\",\"location\":[-2.74724,-4.31649,2.63241]},{\"charge\":-0.41047,\"element\":\"O\",\"location\":[-5.65024,-2.25649,-3.56259]},{\"charge\":0.20523,\"element\":\"H\",\"location\":[-5.05124,-2.54249,-4.25259]},{\"charge\":0.20523,\"element\":\"H\",\"location\":[-5.17524,-1.56349,-3.10459]},{\"charge\":-0.41047,\"element\":\"O\",\"location\":[-2.48624,-3.69549,-4.59359]},{\"charge\":0.20523,\"element\":\"H\",\"location\":[-3.21024,-3.70749,-5.21959]},{\"charge\":0.20523,\"element\":\"H\",\"location\":[-2.29124,-4.61849,-4.43559]}],\"bonds\":[{\"atoms\":[94,93],\"order\":1},{\"atoms\":[62,60],\"order\":1},{\"atoms\":[61,60],\"order\":1},{\"atoms\":[93,95],\"order\":1},{\"atoms\":[43,42],\"order\":1},{\"atoms\":[91,90],\"order\":1},{\"atoms\":[79,78],\"order\":1},{\"atoms\":[90,92],\"order\":1},{\"atoms\":[42,44],\"order\":1},{\"atoms\":[38,36],\"order\":1},{\"atoms\":[36,37],\"order\":1},{\"atoms\":[39,40],\"order\":1},{\"atoms\":[39,41],\"order\":1},{\"atoms\":[78,80],\"order\":1},{\"atoms\":[46,45],\"order\":1},{\"atoms\":[57,59],\"order\":1},{\"atoms\":[57,58],\"order\":1},{\"atoms\":[47,45],\"order\":1},{\"atoms\":[10,9],\"order\":1},{\"atoms\":[9,0],\"order\":2},{\"atoms\":[9,8],\"order\":1},{\"atoms\":[17,0],\"order\":1},{\"atoms\":[20,18],\"order\":1},{\"atoms\":[11,7],\"order\":1},{\"atoms\":[0,1],\"order\":1},{\"atoms\":[7,8],\"order\":1},{\"atoms\":[7,6],\"order\":2},{\"atoms\":[50,48],\"order\":1},{\"atoms\":[8,3],\"order\":2},{\"atoms\":[18,19],\"order\":1},{\"atoms\":[12,6],\"order\":1},{\"atoms\":[6,5],\"order\":1},{\"atoms\":[3,2],\"order\":1},{\"atoms\":[3,4],\"order\":1},{\"atoms\":[1,16],\"order\":1},{\"atoms\":[1,2],\"order\":2},{\"atoms\":[22,21],\"order\":1},{\"atoms\":[2,15],\"order\":1},{\"atoms\":[4,5],\"order\":2},{\"atoms\":[4,14],\"order\":1},{\"atoms\":[5,13],\"order\":1},{\"atoms\":[25,24],\"order\":1},{\"atoms\":[48,49],\"order\":1},{\"atoms\":[21,23],\"order\":1},{\"atoms\":[24,26],\"order\":1},{\"atoms\":[28,27],\"order\":1},{\"atoms\":[70,69],\"order\":1},{\"atoms\":[29,27],\"order\":1},{\"atoms\":[85,84],\"order\":1},{\"atoms\":[86,84],\"order\":1},{\"atoms\":[69,71],\"order\":1},{\"atoms\":[55,54],\"order\":1},{\"atoms\":[34,33],\"order\":1},{\"atoms\":[54,56],\"order\":1},{\"atoms\":[33,35],\"order\":1},{\"atoms\":[64,63],\"order\":1},{\"atoms\":[89,87],\"order\":1},{\"atoms\":[52,51],\"order\":1},{\"atoms\":[83,81],\"order\":1},{\"atoms\":[76,75],\"order\":1},{\"atoms\":[66,68],\"order\":1},{\"atoms\":[66,67],\"order\":1},{\"atoms\":[74,72],\"order\":1},{\"atoms\":[73,72],\"order\":1},{\"atoms\":[51,53],\"order\":1},{\"atoms\":[31,30],\"order\":1},{\"atoms\":[63,65],\"order\":1},{\"atoms\":[87,88],\"order\":1},{\"atoms\":[81,82],\"order\":1},{\"atoms\":[77,75],\"order\":1},{\"atoms\":[32,30],\"order\":1}],\"formula\":\"C10H60O26\",\"molecular_weight\":596.5678,\"units\":{\"molecular_weight\":\"g / mol\"}});\n",
       "\n",
       "               $d.resizable({\n",
       "                   aspectRatio: 250 / 250,\n",
       "                   resize: function (evt, ui) {\n",
       "                       $d.imolecule.renderer.setSize(ui.size.width,\n",
       "                                                     ui.size.height);\n",
       "                   }\n",
       "               });\n",
       "           });\n",
       "           </script>"
      ],
      "text/plain": [
       "<IPython.core.display.HTML object>"
      ]
     },
     "metadata": {},
     "output_type": "display_data"
    }
   ],
   "source": [
    "imolecule.draw(\"./water_solvated-cutoutn-0.xyz\",size=(250, 250), camera_type=\"orthographic\")"
   ]
  },
  {
   "cell_type": "markdown",
   "id": "93a1545f",
   "metadata": {},
   "source": [
    "# Example 2: radical napthalene in chloroform"
   ]
  },
  {
   "cell_type": "markdown",
   "id": "64118fca",
   "metadata": {},
   "source": [
    "### Change working directory for example 2"
   ]
  },
  {
   "cell_type": "code",
   "execution_count": null,
   "outputs": [],
   "source": [
    "os.chdir(f\"/home/nanohub/{user}\")\n",
    "if os.path.exists(os.path.abspath(\"./radical\")):\n",
    "    shutil.rmtree(os.path.abspath(\"./radical\"))\n",
    "os.mkdir(\"./radical\")"
   ],
   "metadata": {
    "collapsed": false
   }
  },
  {
   "cell_type": "code",
   "execution_count": 15,
   "id": "045b8978",
   "metadata": {
    "ExecuteTime": {
     "end_time": "2024-08-13T15:40:30.798931Z",
     "start_time": "2024-08-13T15:40:30.791368Z"
    }
   },
   "outputs": [],
   "source": [
    "os.chdir(\"./radical\")"
   ]
  },
  {
   "cell_type": "code",
   "execution_count": null,
   "outputs": [],
   "source": [
    "!wget https://autosolvate.readthedocs.io/en/latest/_downloads/48816e2419a2b9b6e5b94926f5bb051e/naphthalene_radical.xyz"
   ],
   "metadata": {
    "collapsed": false
   }
  },
  {
   "cell_type": "code",
   "execution_count": 16,
   "id": "2dd275b5",
   "metadata": {
    "ExecuteTime": {
     "end_time": "2024-08-13T15:40:31.775524Z",
     "start_time": "2024-08-13T15:40:31.765334Z"
    }
   },
   "outputs": [
    {
     "data": {
      "text/plain": [
       "'/home/nanohub/arielgale/tutorial-home/radical'"
      ]
     },
     "execution_count": 16,
     "metadata": {},
     "output_type": "execute_result"
    }
   ],
   "source": [
    "os.getcwd()"
   ]
  },
  {
   "cell_type": "markdown",
   "id": "a95806e6",
   "metadata": {},
   "source": [
    "## Step 1: BOXGEN"
   ]
  },
  {
   "cell_type": "markdown",
   "id": "dd308db6",
   "metadata": {},
   "source": [
    "For this system, we are changing many of the default settings, so we will use the option flags to reset them:\n",
    "<pre>\n",
    "  --solvent        chloroform \n",
    "  --output         chcl3_solvated\n",
    "  --charge         1 \n",
    "  --multiplicity   2\n",
    "  --chargemethod   resp </pre>"
   ]
  },
  {
   "cell_type": "markdown",
   "id": "825b5341",
   "metadata": {},
   "source": [
    "<div class=\"alert alert-block alert-danger\">\n",
    "Open shell systems must use the RESP charge fitting method! This requires access to Gaussian or GAMESS. "
   ]
  },
  {
   "cell_type": "markdown",
   "id": "e9239027",
   "metadata": {},
   "source": [
    "Please make sure to delete `resp_scr` directory before running the step-1 command"
   ]
  },
  {
   "cell_type": "code",
   "execution_count": 17,
   "id": "71466fb1",
   "metadata": {
    "ExecuteTime": {
     "end_time": "2024-08-13T15:40:35.452259Z",
     "start_time": "2024-08-13T15:40:35.443599Z"
    }
   },
   "outputs": [],
   "source": [
    "if os.path.exists(os.path.join(os.getcwd(),'resp_scr')):\n",
    "    shutil.rmtree(os.path.join(os.getcwd(),'resp_scr'))"
   ]
  },
  {
   "cell_type": "code",
   "execution_count": 19,
   "id": "6ec779ca",
   "metadata": {
    "ExecuteTime": {
     "end_time": "2024-08-13T15:42:49.761838Z",
     "start_time": "2024-08-13T15:40:47.075628Z"
    }
   },
   "outputs": [
    {
     "name": "stdout",
     "output_type": "stream",
     "text": [
      "\r\n",
      "Welcome to antechamber 22.0: molecular input file processor.\r\n",
      "\r\n",
      "Info: acdoctor mode is on: check and diagnose problems in the input file.\r\n",
      "Info: The atom type is set to gaff; the options available to the -at flag are\r\n",
      "      gaff, gaff2, amber, bcc, and sybyl.\r\n",
      "\r\n",
      "-- Check Format for pdb File --\r\n",
      "   Status: pass\r\n",
      "-- Check Unusual Elements --\r\n",
      "   Status: pass\r\n",
      "-- Check Open Valences --\r\n",
      "   Status: pass\r\n",
      "-- Check Geometry --\r\n",
      "      for those bonded   \r\n",
      "      for those not bonded   \r\n",
      "   Status: pass\r\n",
      "-- Check Weird Bonds --\r\n",
      "   Status: pass\r\n",
      "-- Check Number of Units --\r\n",
      "   Status: pass\r\n",
      "acdoctor mode has completed checking the input file.\r\n",
      "\r\n",
      "\r\n",
      "\r\n",
      "\r\n",
      "\r\n",
      "Welcome to antechamber 22.0: molecular input file processor.\r\n",
      "\r\n",
      "Info: acdoctor mode is on: check and diagnose problems in the input file.\r\n",
      "Info: The atom type is set to gaff; the options available to the -at flag are\r\n",
      "      gaff, gaff2, amber, bcc, and sybyl.\r\n",
      "\r\n",
      "-- Check Format for ac File --\r\n",
      "   Status: pass\r\n",
      "-- Check Unusual Elements --\r\n",
      "   Status: pass\r\n",
      "-- Check Open Valences --\r\n",
      "   Status: pass\r\n",
      "-- Check Geometry --\r\n",
      "      for those bonded   \r\n",
      "      for those not bonded   \r\n",
      "   Status: pass\r\n",
      "-- Check Weird Bonds --\r\n",
      "   Status: pass\r\n",
      "-- Check Number of Units --\r\n",
      "   Status: pass\r\n",
      "acdoctor mode has completed checking the input file.\r\n",
      "\r\n",
      "\r\n",
      "AutoSolvate is starting in command line mode!\r\n",
      "Running the module to generate solvent box and force field parameters.\r\n",
      "Main/solutexyz naphthalene-radical.xyz\r\n",
      "Solvent: chloroform\r\n",
      "Charge: 1\r\n",
      "Spinmultiplicity: 2\r\n",
      "Output: chcl3_solvated\r\n",
      "Quantum chemistry package directory: /apps/share64/debian10/gamess/gamess-20170420/bin\r\n",
      "Quantum chemistry program name: gamess\r\n",
      "Chargemethod: resp\r\n",
      "WARNING: Gamess executable name is not specified for RESP charge fitting!\r\n",
      "WARNING: Using rungms by default. If failed later,                          please rerun with the option -e specified!\r\n",
      "WARNING: Amber home directory is not specified in input options\r\n",
      "WARNING: Checking AMBERHOME environment variable...\r\n",
      "['echo', '$AMBERHOME']\r\n",
      "WARNING: AMBERHOME detected:  $AMBERHOME\r\n",
      "\r\n",
      "Converting xyz to pdb\r\n",
      "Generate frcmod file for the solute\r\n",
      "Remeove CONNECT information from pdb file\r\n",
      "cleaning up solute.xyz.pdb\r\n",
      "****************************************\r\n",
      "Run GAMESS to generate RESP charge and mol2 file\r\n",
      "****************************************\r\n",
      "inputs dictionary: {'pdbfile': 'solute.xyz.pdb', 'charge': 1, 'spinmult': 2, 'qm_program': 'gamess', 'qm_exe': 'rungms', 'qm_dir': '/apps/share64/debian10/gamess/gamess-20170420/bin', 'srun_use': False, 'rundir': ''}\r\n",
      "Creating the scratch folder for RESP fitting:  /home/nanohub/arielgale/tutorial-home/radical/resp_scr\r\n",
      "Copying over the pdb file solute.xyz.pdb  to  /home/nanohub/arielgale/tutorial-home/radical/resp_scr\r\n",
      "Navigating to the scratch folder for RESP fitting:  /home/nanohub/arielgale/tutorial-home/radical/resp_scr\r\n",
      "----------------------------------------\r\n",
      "    Preparing GAMESS input files...     \r\n",
      "----------------------------------------\r\n",
      "----------------------------------------\r\n",
      "Running GAMESS. This may take a while...\r\n",
      "----------------------------------------\r\n",
      "/apps/share64/debian10/gamess/gamess-20170420/bin/rungms solute_gamess.inp 00 1  > /home/nanohub/arielgale/tutorial-home/radical/resp_scr/solute_gamess.log\r\n",
      "Copy back GAMESS .dat file from SCR\r\n",
      "----------------------------------------\r\n",
      "Start RESP fitting with ESP generaged by GAMESS\r\n",
      "----------------------------------------\r\n",
      "Generating Antechamber file: solute.ac\r\n",
      "antechamber -i solute.xyz.pdb -fi pdb -o solute.ac -fo ac -c dc -nc 1\r\n",
      "Using respgen to generate stage 1 RESP fitting input file: solute.resp1\r\n",
      "respgen -i solute.ac -o solute.resp1 -f resp1\r\n",
      "Using respgen to generate stage 2 RESP fitting input file: solute.resp2\r\n",
      "respgen -i solute.ac -o solute.resp2 -f resp2\r\n",
      "Reading optimized geometries and electrostatic potentials from GAMESS output and writing potential file...\r\n",
      "Reading GAMESS output from /home/nanohub/arielgale/tutorial-home/radical/resp_scr...\r\n",
      "Using resp to perform stage 1 RESP fitting to generate: solute.qout_stage1\r\n",
      "resp -O -i solute.resp1 -o solute.respout1 -e solute.esp -t solute.qout_stage1\r\n",
      "Using resp to perform stage 2 RESP fitting to generate: solute.qout_stage2\r\n",
      "resp -O -i solute.resp2 -o solute.respout2 -e solute.esp -q solute.qout_stage1 -t solute.qout_stage2\r\n",
      "Writing out the mol2 file with resp charge: solute.mol2\r\n",
      "antechamber -i solute.ac -fi ac -o solute.mol2 -fo mol2 -c rc -cf solute.qout_stage2\r\n",
      "Navigating back to the folder for AutoSolvate run:  /home/nanohub/arielgale/tutorial-home/radical\r\n",
      "Copying the generated mol2 file  solute.mol2  to rundir /home/nanohub/arielgale/tutorial-home/radical\r\n",
      "Finally generate frcmod with parmchk2\r\n",
      "Now create the solute library file\r\n",
      "Generate Amber parameters for the solvated system\r\n",
      "Now add pre-equlibrated solvent box to the solute\r\n",
      "The script has finished successfully\r\n",
      "\r\n",
      "cp solute_gamess.inp /home/nanohub/arielgale/tutorial-home/radical/resp_scr/tmp/solute_gamess.F05\r\n",
      "unset echo\r\n",
      "/apps/share64/debian10/gamess/gamess-20170420/bin/ddikick.x /apps/share64/debian10/gamess/gamess-20170420/bin/gamess.00.x solute_gamess -ddi 1 1 nanohub-2452674-11 -scr /home/nanohub/arielgale/tutorial-home/radical/resp_scr/tmp\r\n",
      "unset echo\r\n",
      "/bin/bash: /apps/share64/debian10/anaconda/anaconda-7/envs/AUTOSOLVATE/lib/libtinfo.so.6: no version information available (required by /bin/bash)\r\n",
      "/bin/bash: /apps/share64/debian10/anaconda/anaconda-7/envs/AUTOSOLVATE/lib/libtinfo.so.6: no version information available (required by /bin/bash)\r\n",
      "/bin/bash: /apps/share64/debian10/anaconda/anaconda-7/envs/AUTOSOLVATE/lib/libtinfo.so.6: no version information available (required by /bin/bash)\r\n",
      "/bin/bash: /apps/share64/debian10/anaconda/anaconda-7/envs/AUTOSOLVATE/lib/libtinfo.so.6: no version information available (required by /bin/bash)\r\n",
      "\r\n"
     ]
    }
   ],
   "source": [
    "!conda run -n AUTOSOLVATE autosolvate boxgen -m naphthalene_radical.xyz -s chloroform -c 1 -u 2 -o chcl3_solvated -d \"/apps/share64/debian10/gamess/gamess-20170420/bin\" -q \"gamess\" -g \"resp\""
   ]
  },
  {
   "cell_type": "markdown",
   "id": "4f41e0d4",
   "metadata": {},
   "source": [
    "## Step 2: MDRUN"
   ]
  },
  {
   "cell_type": "markdown",
   "id": "2117193a",
   "metadata": {},
   "source": [
    "We still use the example run settings instead of production here. <br>\n",
    "Make sure that the filename is updated!"
   ]
  },
  {
   "cell_type": "code",
   "execution_count": null,
   "id": "8ec70a5c",
   "metadata": {},
   "outputs": [],
   "source": [
    "!conda run -n AUTOSOLVATE autosolvate mdrun -f ch3cl_solvated -i 100 -m 100 -n 100 -l 0 -o 0 -s 0 -v 0"
   ]
  },
  {
   "cell_type": "markdown",
   "id": "fd6fb027",
   "metadata": {},
   "source": [
    "## Step 3: CLUSTERGEN"
   ]
  },
  {
   "cell_type": "markdown",
   "id": "35121e79",
   "metadata": {},
   "source": [
    "Nothing changes here other than the filename"
   ]
  },
  {
   "cell_type": "code",
   "execution_count": null,
   "id": "d001c036",
   "metadata": {},
   "outputs": [],
   "source": [
    "!conda run -n AUTOSOLVATE autosolvate clustergen -f ch3cl_solvated.prmtop -t ch3cl_solvated-mmnpt.netcdf -a 0 -i 10"
   ]
  },
  {
   "cell_type": "markdown",
   "id": "3eaca37b",
   "metadata": {
    "ExecuteTime": {
     "end_time": "2024-08-13T15:34:59.688673Z",
     "start_time": "2024-08-13T15:34:59.683165Z"
    }
   },
   "source": [
    "## Step 4: Visualize the Output"
   ]
  },
  {
   "cell_type": "code",
   "execution_count": null,
   "id": "4c8b87ca",
   "metadata": {},
   "outputs": [],
   "source": [
    "imolecule.draw(\"./water_solvated-cutoutn-0.xyz\",size=(250, 250), camera_type=\"orthographic\")"
   ]
  }
 ],
 "metadata": {
  "kernelspec": {
   "display_name": "Python3.8 (AUTOSOLVATE)",
   "language": "python",
   "name": "autosolvate"
  },
  "language_info": {
   "codemirror_mode": {
    "name": "ipython",
    "version": 3
   },
   "file_extension": ".py",
   "mimetype": "text/x-python",
   "name": "python",
   "nbconvert_exporter": "python",
   "pygments_lexer": "ipython3",
   "version": "3.8.19"
  },
  "toc": {
   "base_numbering": 1,
   "nav_menu": {},
   "number_sections": true,
   "sideBar": true,
   "skip_h1_title": false,
   "title_cell": "Table of Contents",
   "title_sidebar": "Contents",
   "toc_cell": false,
   "toc_position": {},
   "toc_section_display": true,
   "toc_window_display": true
  },
  "varInspector": {
   "cols": {
    "lenName": 16,
    "lenType": 16,
    "lenVar": 40
   },
   "kernels_config": {
    "python": {
     "delete_cmd_postfix": "",
     "delete_cmd_prefix": "del ",
     "library": "var_list.py",
     "varRefreshCmd": "print(var_dic_list())"
    },
    "r": {
     "delete_cmd_postfix": ") ",
     "delete_cmd_prefix": "rm(",
     "library": "var_list.r",
     "varRefreshCmd": "cat(var_dic_list()) "
    }
   },
   "types_to_exclude": [
    "module",
    "function",
    "builtin_function_or_method",
    "instance",
    "_Feature"
   ],
   "window_display": false
  }
 },
 "nbformat": 4,
 "nbformat_minor": 5
}
